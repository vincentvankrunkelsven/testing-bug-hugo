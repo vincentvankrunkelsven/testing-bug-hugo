{
 "cells": [
  {
   "cell_type": "code",
   "execution_count": 1,
   "metadata": {
    "collapsed": true
   },
   "outputs": [],
   "source": [
    "import pandas as pd\n",
    "\n",
    "# Lists for continent names and goal difference data\n",
    "Africa = [0, 0, 0.1, -0.6, 0, -1.1]\n",
    "Asia = [0, 0, -0.8, -1.5, -0.5, -1.9]\n",
    "CONCACAF = [-0.1, 0.8, 0, -1.1, -1.5, -1.4]\n",
    "Europe = [0.6, 1.5, 1.1, 0, 1, -0.1]\n",
    "Oceania = [0, 0.5, 1.5, -1, 0, -0.3]\n",
    "SouthAmerica = [1.1, 1.9, 1.4, 0.1, 0.3, 0]\n",
    "\n",
    "# Create a dictionary of continent profiles: world_cup\n",
    "world_cup = {'AF': Africa, 'AS': Asia, 'CONCACAF': CONCACAF, 'EU': Europe, 'OC': Oceania, 'SA': SouthAmerica}\n",
    "\n",
    "# Create a DataFrame from the dictionary: world_cup_df\n",
    "world_cup_df = pd.DataFrame(world_cup)"
   ]
  },
  {
   "cell_type": "code",
   "execution_count": 2,
   "metadata": {
    "collapsed": true
   },
   "outputs": [],
   "source": [
    "# List of continents in the World Cup\n",
    "continents = ['Africa', 'Asia', 'CONCACAF', 'Europe', 'Oceania', 'SouthAmerica']\n",
    "\n",
    "# Update index of world_cup_df\n",
    "world_cup_df.index = continents"
   ]
  },
  {
   "cell_type": "code",
   "execution_count": 3,
   "metadata": {
    "collapsed": false
   },
   "outputs": [
    {
     "name": "stdout",
     "output_type": "stream",
     "text": [
      "               AF   AS  CONCACAF   EU   OC   SA\n",
      "Africa        0.0  0.0      -0.1  0.6  0.0  1.1\n",
      "Asia          0.0  0.0       0.8  1.5  0.5  1.9\n",
      "CONCACAF      0.1 -0.8       0.0  1.1  1.5  1.4\n",
      "Europe       -0.6 -1.5      -1.1  0.0 -1.0  0.1\n",
      "Oceania       0.0 -0.5      -1.5  1.0  0.0  0.3\n",
      "SouthAmerica -1.1 -1.9      -1.4 -0.1 -0.3  0.0\n"
     ]
    }
   ],
   "source": [
    "print(world_cup_df)"
   ]
  },
  {
   "cell_type": "code",
   "execution_count": 6,
   "metadata": {
    "collapsed": false
   },
   "outputs": [],
   "source": [
    "world_cup_df.to_csv('world_cup.csv', sep=',')"
   ]
  },
  {
   "cell_type": "code",
   "execution_count": null,
   "metadata": {
    "collapsed": true
   },
   "outputs": [],
   "source": []
  }
 ],
 "metadata": {
  "anaconda-cloud": {},
  "kernelspec": {
   "display_name": "Python [Root]",
   "language": "python",
   "name": "Python [Root]"
  },
  "language_info": {
   "codemirror_mode": {
    "name": "ipython",
    "version": 3
   },
   "file_extension": ".py",
   "mimetype": "text/x-python",
   "name": "python",
   "nbconvert_exporter": "python",
   "pygments_lexer": "ipython3",
   "version": "3.5.2"
  }
 },
 "nbformat": 4,
 "nbformat_minor": 0
}

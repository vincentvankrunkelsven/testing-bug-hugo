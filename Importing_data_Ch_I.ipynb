{
 "cells": [
  {
   "cell_type": "markdown",
   "metadata": {},
   "source": [
    "# Chapter 1: Importing flat files"
   ]
  },
  {
   "cell_type": "markdown",
   "metadata": {},
   "source": [
    "Hi! Welcome to a draft Chapter. This is really intended to document the code that I would like all students to be able to write after completing the Chapter in question. Below, I briefly describe a Video Exercise, then provide the code that will be in the Interactive Exercises following that Video Exercise, along with a short description of what the code does. I will always state something like 'Plan: make 4 or 5 exercises from the code below.' In quite a few cases, there is too much code. I welcome feedback on which bits of code I can throw out, among many other things, such as structure, conceptual flow and best coding practices (I do not follow all PEP8 guidelines here; I will, of course). Be critical!"
   ]
  },
  {
   "cell_type": "markdown",
   "metadata": {},
   "source": [
    "### Video Exercise 1"
   ]
  },
  {
   "cell_type": "markdown",
   "metadata": {},
   "source": [
    "Introduction, summary of flat file types & how to import .txt using basic Python commands."
   ]
  },
  {
   "cell_type": "markdown",
   "metadata": {},
   "source": [
    "### Interactive Exercises:"
   ]
  },
  {
   "cell_type": "markdown",
   "metadata": {},
   "source": [
    "Plan: make 4 or 5 exercises from the code below.\n",
    "___"
   ]
  },
  {
   "cell_type": "markdown",
   "metadata": {},
   "source": [
    "### Opening entire files"
   ]
  },
  {
   "cell_type": "code",
   "execution_count": 1,
   "metadata": {
    "collapsed": false
   },
   "outputs": [
    {
     "name": "stdout",
     "output_type": "stream",
     "text": [
      "Airline,Mar,June,Aug\n",
      "8,84.4,69.4,85\n",
      "7,80.3,77,80.4\n",
      "6,80.8,75.1,81\n",
      "2,72.7,65.1,78.3\n",
      "5,78.7,72.2,77.7\n",
      "4,79.3,68.4,75.1\n",
      "9,78.6,69.2,71.6\n",
      "10,73.6,68.9,70.1\n",
      "1,71.9,75.4,64.4\n",
      "3,76.5,70.3,62.5\n",
      "\n"
     ]
    }
   ],
   "source": [
    "#Open a file\n",
    "file = open('datasets/arrivaltext.csv' , 'r') #'r' is to read only.\n",
    "#Print it\n",
    "print(file.read())\n",
    "#close file\n",
    "file.close()"
   ]
  },
  {
   "cell_type": "markdown",
   "metadata": {},
   "source": [
    "### Opening a file line by line"
   ]
  },
  {
   "cell_type": "code",
   "execution_count": 2,
   "metadata": {
    "collapsed": false
   },
   "outputs": [
    {
     "name": "stdout",
     "output_type": "stream",
     "text": [
      "Airline,Mar,June,Aug\n",
      "\n",
      "8,84.4,69.4,85\n",
      "\n",
      "False\n",
      "True\n"
     ]
    }
   ],
   "source": [
    "#Open a file\n",
    "file = open('datasets/arrivaltext.csv')\n",
    "#print one line\n",
    "print(file.readline())\n",
    "#print another line\n",
    "print(file.readline())\n",
    "#is file closed?\n",
    "print(file.closed)\n",
    "#close file\n",
    "file.close()\n",
    "#is file closed now?\n",
    "print(file.closed)"
   ]
  },
  {
   "cell_type": "markdown",
   "metadata": {},
   "source": [
    "Do the above without having to explicitly close the file:"
   ]
  },
  {
   "cell_type": "code",
   "execution_count": 3,
   "metadata": {
    "collapsed": false
   },
   "outputs": [
    {
     "name": "stdout",
     "output_type": "stream",
     "text": [
      "Airline,Mar,June,Aug\n",
      "\n"
     ]
    }
   ],
   "source": [
    "#Avoid having to explicitly close:\n",
    "#This has the advantage that the file \n",
    "#is properly closed after its suite finishes, even if an exception is raised on the way\n",
    "with open('datasets/arrivaltext.csv') as file:\n",
    "    print(file.readline())"
   ]
  },
  {
   "cell_type": "markdown",
   "metadata": {},
   "source": [
    "Importing & reading a .csv so that each line is a list:"
   ]
  },
  {
   "cell_type": "code",
   "execution_count": 6,
   "metadata": {
    "collapsed": false
   },
   "outputs": [
    {
     "name": "stdout",
     "output_type": "stream",
     "text": [
      "['Airline', 'Mar', 'June', 'Aug']\n",
      "['8', '84.4', '69.4', '85']\n",
      "['7', '80.3', '77', '80.4']\n",
      "['6', '80.8', '75.1', '81']\n",
      "['2', '72.7', '65.1', '78.3']\n",
      "['5', '78.7', '72.2', '77.7']\n",
      "['4', '79.3', '68.4', '75.1']\n",
      "['9', '78.6', '69.2', '71.6']\n",
      "['10', '73.6', '68.9', '70.1']\n",
      "['1', '71.9', '75.4', '64.4']\n",
      "['3', '76.5', '70.3', '62.5']\n"
     ]
    }
   ],
   "source": [
    "#Importing a .csv#\n",
    "###################\n",
    "#Import package:\n",
    "import csv\n",
    "#open file\n",
    "with open('datasets/arrivaltext.csv') as file:\n",
    "    reader = csv.reader(file)\n",
    "    for row in reader:\n",
    "        print(row)\n",
    "#close file\n",
    "file.close()\n",
    "#http://stackoverflow.com/questions/8009882/how-to-read-large-file-line-by-line-in-python\n",
    "#https://docs.python.org/2/tutorial/inputoutput.html"
   ]
  },
  {
   "cell_type": "markdown",
   "metadata": {},
   "source": [
    "Printing only some of the rows:"
   ]
  },
  {
   "cell_type": "code",
   "execution_count": 6,
   "metadata": {
    "collapsed": false
   },
   "outputs": [
    {
     "name": "stdout",
     "output_type": "stream",
     "text": [
      "['Airline', 'Mar', 'June', 'Aug']\n",
      "['8', '84.4', '69.4', '85']\n",
      "['6', '80.8', '75.1', '81']\n",
      "['1', '71.9', '75.4', '64.4']\n"
     ]
    }
   ],
   "source": [
    "####what if you only want some of the rows?###\n",
    "##############################################\n",
    "import csv\n",
    "#the rows that you want:\n",
    "I = [0,1,3,9]\n",
    "with open('datasets/arrivaltext.csv') as file:\n",
    "    reader = csv.reader(file)\n",
    "    for i, row in enumerate(reader):\n",
    "        if i in I:\n",
    "            print(row)\n",
    "#http://stackoverflow.com/questions/8009882/how-to-read-large-file-line-by-line-in-python\n",
    "#https://docs.python.org/2/tutorial/inputoutput.html"
   ]
  },
  {
   "cell_type": "markdown",
   "metadata": {},
   "source": [
    "If we want consecutive rows, we can do much better performance-wise using itertools (explain):"
   ]
  },
  {
   "cell_type": "code",
   "execution_count": 7,
   "metadata": {
    "collapsed": false
   },
   "outputs": [
    {
     "name": "stdout",
     "output_type": "stream",
     "text": [
      "['7', '80.3', '77', '80.4']\n",
      "['6', '80.8', '75.1', '81']\n",
      "['2', '72.7', '65.1', '78.3']\n"
     ]
    }
   ],
   "source": [
    "###if we want consecutive rows, we can do better performance-wise using itertools (explain, please)###\n",
    "import itertools\n",
    "i, j = 2,4\n",
    "with open('datasets/arrivaltext.csv') as file:\n",
    "    reader = csv.reader(file, delimiter=',')\n",
    "    for row in itertools.islice(reader, i, j+1):\n",
    "        print(row)"
   ]
  },
  {
   "cell_type": "markdown",
   "metadata": {},
   "source": [
    "What if we want only a subset of columns?"
   ]
  },
  {
   "cell_type": "code",
   "execution_count": 8,
   "metadata": {
    "collapsed": false
   },
   "outputs": [
    {
     "name": "stdout",
     "output_type": "stream",
     "text": [
      "['June', 'Aug']\n",
      "['69.4', '85']\n",
      "['77', '80.4']\n",
      "['75.1', '81']\n",
      "['65.1', '78.3']\n",
      "['72.2', '77.7']\n",
      "['68.4', '75.1']\n",
      "['69.2', '71.6']\n",
      "['68.9', '70.1']\n",
      "['75.4', '64.4']\n",
      "['70.3', '62.5']\n"
     ]
    }
   ],
   "source": [
    "#importing a .csv & printing certain columns\n",
    "import csv\n",
    "with open('datasets/arrivaltext.csv') as file:\n",
    "    reader = csv.reader(file)\n",
    "    for row in reader:\n",
    "        print(row[2:4])"
   ]
  },
  {
   "cell_type": "markdown",
   "metadata": {},
   "source": [
    "We can also print the intersection of rows & columns:"
   ]
  },
  {
   "cell_type": "code",
   "execution_count": 9,
   "metadata": {
    "collapsed": false
   },
   "outputs": [
    {
     "name": "stdout",
     "output_type": "stream",
     "text": [
      "['Mar', 'Aug']\n",
      "['84.4', '85']\n",
      "['80.3', '80.4']\n",
      "['80.8', '81']\n",
      "['72.7', '78.3']\n",
      "['78.7', '77.7']\n",
      "['79.3', '75.1']\n",
      "['78.6', '71.6']\n",
      "['73.6', '70.1']\n",
      "['71.9', '64.4']\n",
      "['76.5', '62.5']\n"
     ]
    }
   ],
   "source": [
    "#importing a .csv & printing certain columns\n",
    "import csv\n",
    "I = [1,3]\n",
    "with open('datasets/arrivaltext.csv') as file:\n",
    "    reader = csv.reader(file)\n",
    "    for row in reader:\n",
    "        print([row[i] for i in I])"
   ]
  },
  {
   "cell_type": "markdown",
   "metadata": {},
   "source": [
    "### Video Exercise 2"
   ]
  },
  {
   "cell_type": "markdown",
   "metadata": {},
   "source": [
    "Variations on the above reading data into Python: we can do all of the above with .txt files; we can read the files into dictionaries; we can store the data we read in as lists; we can convert the data to numpy arrays (matrices)."
   ]
  },
  {
   "cell_type": "markdown",
   "metadata": {},
   "source": [
    "### Interactive Exercises:"
   ]
  },
  {
   "cell_type": "markdown",
   "metadata": {},
   "source": [
    "Plan: turn the following code into 3 or 4 exercises.\n",
    "___"
   ]
  },
  {
   "cell_type": "markdown",
   "metadata": {},
   "source": [
    "Doing the above but with a .txt instead of .csv:"
   ]
  },
  {
   "cell_type": "code",
   "execution_count": 10,
   "metadata": {
    "collapsed": false
   },
   "outputs": [
    {
     "name": "stdout",
     "output_type": "stream",
     "text": [
      "['mpg', 'cyl', 'disp', 'hp', 'drat', 'wt', 'qsec', 'vs', 'am', 'gear', 'carb']\n",
      "['Mazda RX4', '21', '6', '160', '110', '3.9', '2.62', '16.46', '0', '1', '4', '4']\n",
      "['Mazda RX4 Wag', '21', '6', '160', '110', '3.9', '2.875', '17.02', '0', '1', '4', '4']\n",
      "['Datsun 710', '22.8', '4', '108', '93', '3.85', '2.32', '18.61', '1', '1', '4', '1']\n",
      "['Hornet 4 Drive', '21.4', '6', '258', '110', '3.08', '3.215', '19.44', '1', '0', '3', '1']\n",
      "['Hornet Sportabout', '18.7', '8', '360', '175', '3.15', '3.44', '17.02', '0', '0', '3', '2']\n",
      "['Valiant', '18.1', '6', '225', '105', '2.76', '3.46', '20.22', '1', '0', '3', '1']\n",
      "['Duster 360', '14.3', '8', '360', '245', '3.21', '3.57', '15.84', '0', '0', '3', '4']\n",
      "['Merc 240D', '24.4', '4', '146.7', '62', '3.69', '3.19', '20', '1', '0', '4', '2']\n",
      "['Merc 230', '22.8', '4', '140.8', '95', '3.92', '3.15', '22.9', '1', '0', '4', '2']\n",
      "['Merc 280', '19.2', '6', '167.6', '123', '3.92', '3.44', '18.3', '1', '0', '4', '4']\n",
      "['Merc 280C', '17.8', '6', '167.6', '123', '3.92', '3.44', '18.9', '1', '0', '4', '4']\n",
      "['Merc 450SE', '16.4', '8', '275.8', '180', '3.07', '4.07', '17.4', '0', '0', '3', '3']\n",
      "['Merc 450SL', '17.3', '8', '275.8', '180', '3.07', '3.73', '17.6', '0', '0', '3', '3']\n",
      "['Merc 450SLC', '15.2', '8', '275.8', '180', '3.07', '3.78', '18', '0', '0', '3', '3']\n",
      "['Cadillac Fleetwood', '10.4', '8', '472', '205', '2.93', '5.25', '17.98', '0', '0', '3', '4']\n",
      "['Lincoln Continental', '10.4', '8', '460', '215', '3', '5.424', '17.82', '0', '0', '3', '4']\n",
      "['Chrysler Imperial', '14.7', '8', '440', '230', '3.23', '5.345', '17.42', '0', '0', '3', '4']\n",
      "['Fiat 128', '32.4', '4', '78.7', '66', '4.08', '2.2', '19.47', '1', '1', '4', '1']\n",
      "['Honda Civic', '30.4', '4', '75.7', '52', '4.93', '1.615', '18.52', '1', '1', '4', '2']\n",
      "['Toyota Corolla', '33.9', '4', '71.1', '65', '4.22', '1.835', '19.9', '1', '1', '4', '1']\n",
      "['Toyota Corona', '21.5', '4', '120.1', '97', '3.7', '2.465', '20.01', '1', '0', '3', '1']\n",
      "['Dodge Challenger', '15.5', '8', '318', '150', '2.76', '3.52', '16.87', '0', '0', '3', '2']\n",
      "['AMC Javelin', '15.2', '8', '304', '150', '3.15', '3.435', '17.3', '0', '0', '3', '2']\n",
      "['Camaro Z28', '13.3', '8', '350', '245', '3.73', '3.84', '15.41', '0', '0', '3', '4']\n",
      "['Pontiac Firebird', '19.2', '8', '400', '175', '3.08', '3.845', '17.05', '0', '0', '3', '2']\n",
      "['Fiat X1-9', '27.3', '4', '79', '66', '4.08', '1.935', '18.9', '1', '1', '4', '1']\n",
      "['Porsche 914-2', '26', '4', '120.3', '91', '4.43', '2.14', '16.7', '0', '1', '5', '2']\n",
      "['Lotus Europa', '30.4', '4', '95.1', '113', '3.77', '1.513', '16.9', '1', '1', '5', '2']\n",
      "['Ford Pantera L', '15.8', '8', '351', '264', '4.22', '3.17', '14.5', '0', '1', '5', '4']\n",
      "['Ferrari Dino', '19.7', '6', '145', '175', '3.62', '2.77', '15.5', '0', '1', '5', '6']\n",
      "['Maserati Bora', '15', '8', '301', '335', '3.54', '3.57', '14.6', '0', '1', '5', '8']\n",
      "['Volvo 142E', '21.4', '4', '121', '109', '4.11', '2.78', '18.6', '1', '1', '4', '2']\n"
     ]
    }
   ],
   "source": [
    "#importing a .txt & printing certain columns\n",
    "import csv\n",
    "with open('datasets/test.txt') as file:\n",
    "    reader = csv.reader(file, delimiter=' ')\n",
    "    for row in reader:\n",
    "        print(row)"
   ]
  },
  {
   "cell_type": "markdown",
   "metadata": {},
   "source": [
    "Print the row-column intersection of a .txt:"
   ]
  },
  {
   "cell_type": "code",
   "execution_count": 1,
   "metadata": {
    "collapsed": false
   },
   "outputs": [
    {
     "ename": "IOError",
     "evalue": "[Errno 2] No such file or directory: 'datasets/test.txt'",
     "output_type": "error",
     "traceback": [
      "\u001b[1;31m---------------------------------------------------------------------------\u001b[0m",
      "\u001b[1;31mIOError\u001b[0m                                   Traceback (most recent call last)",
      "\u001b[1;32m<ipython-input-1-25e94221b24e>\u001b[0m in \u001b[0;36m<module>\u001b[1;34m()\u001b[0m\n\u001b[0;32m      3\u001b[0m \u001b[0mIR\u001b[0m \u001b[1;33m=\u001b[0m \u001b[1;33m[\u001b[0m\u001b[1;36m2\u001b[0m\u001b[1;33m,\u001b[0m\u001b[1;36m4\u001b[0m\u001b[1;33m,\u001b[0m\u001b[1;36m6\u001b[0m\u001b[1;33m]\u001b[0m\u001b[1;33m\u001b[0m\u001b[0m\n\u001b[0;32m      4\u001b[0m \u001b[0mIC\u001b[0m \u001b[1;33m=\u001b[0m \u001b[1;33m[\u001b[0m\u001b[1;36m1\u001b[0m\u001b[1;33m,\u001b[0m\u001b[1;36m3\u001b[0m\u001b[1;33m]\u001b[0m\u001b[1;33m\u001b[0m\u001b[0m\n\u001b[1;32m----> 5\u001b[1;33m \u001b[1;32mwith\u001b[0m \u001b[0mopen\u001b[0m\u001b[1;33m(\u001b[0m\u001b[1;34m'datasets/test.txt'\u001b[0m\u001b[1;33m)\u001b[0m \u001b[1;32mas\u001b[0m \u001b[0mfile\u001b[0m\u001b[1;33m:\u001b[0m\u001b[1;33m\u001b[0m\u001b[0m\n\u001b[0m\u001b[0;32m      6\u001b[0m     \u001b[0mreader\u001b[0m \u001b[1;33m=\u001b[0m \u001b[0mcsv\u001b[0m\u001b[1;33m.\u001b[0m\u001b[0mreader\u001b[0m\u001b[1;33m(\u001b[0m\u001b[0mfile\u001b[0m\u001b[1;33m,\u001b[0m \u001b[0mdelimiter\u001b[0m\u001b[1;33m=\u001b[0m\u001b[1;34m' '\u001b[0m\u001b[1;33m)\u001b[0m\u001b[1;33m\u001b[0m\u001b[0m\n\u001b[0;32m      7\u001b[0m     \u001b[1;32mfor\u001b[0m \u001b[0mi\u001b[0m \u001b[1;33m,\u001b[0m \u001b[0mrow\u001b[0m \u001b[1;32min\u001b[0m \u001b[0menumerate\u001b[0m\u001b[1;33m(\u001b[0m\u001b[0mreader\u001b[0m\u001b[1;33m)\u001b[0m\u001b[1;33m:\u001b[0m\u001b[1;33m\u001b[0m\u001b[0m\n",
      "\u001b[1;31mIOError\u001b[0m: [Errno 2] No such file or directory: 'datasets/test.txt'"
     ]
    }
   ],
   "source": [
    "#importing a .txt & combo slice: printing certain rows & certain columns\n",
    "import csv\n",
    "IR = [2,4,6]\n",
    "IC = [1,3]\n",
    "with open('datasets/test.txt') as file:\n",
    "    reader = csv.reader(file, delimiter=' ')\n",
    "    for i , row in enumerate(reader):\n",
    "        if i in IR:\n",
    "            print([row[i] for j in IC])"
   ]
  },
  {
   "cell_type": "markdown",
   "metadata": {},
   "source": [
    "We can also print flat files as dictionaries of key-value pairs (key = column name , value = value of given column in given row):"
   ]
  },
  {
   "cell_type": "code",
   "execution_count": 13,
   "metadata": {
    "collapsed": false
   },
   "outputs": [
    {
     "name": "stdout",
     "output_type": "stream",
     "text": [
      "{'Airline': '7', 'Mar': '80.3', 'June': '77', 'Aug': '80.4'}\n",
      "{'Airline': '6', 'Mar': '80.8', 'June': '75.1', 'Aug': '81'}\n",
      "{'Airline': '2', 'Mar': '72.7', 'June': '65.1', 'Aug': '78.3'}\n"
     ]
    }
   ],
   "source": [
    "##Printing as a dict:\n",
    "I = range(1,4)\n",
    "with open('datasets/arrivaltext.csv' ) as file:\n",
    "    input_file = csv.DictReader(file )\n",
    "#     print(input_file)\n",
    "    for i, row in enumerate(input_file):\n",
    "        if i in I:\n",
    "            print(row)"
   ]
  },
  {
   "cell_type": "markdown",
   "metadata": {},
   "source": [
    "Recall that commonly, we are reading in the data as a list of strings: what if we want a list of floats, not strings? We may desire this in order to perform any number of numerical calculations:"
   ]
  },
  {
   "cell_type": "code",
   "execution_count": 13,
   "metadata": {
    "collapsed": false
   },
   "outputs": [
    {
     "name": "stdout",
     "output_type": "stream",
     "text": [
      "[6.0, 6.0]\n",
      "[110.0, 110.0]\n",
      "[3.46, 3.46]\n"
     ]
    }
   ],
   "source": [
    "#doing the above to output floats!\n",
    "import csv\n",
    "# file = 'datasets/arrivaltext.csv'\n",
    "# file = \n",
    "IR = [2,4,6]\n",
    "IC = [1,3]\n",
    "with open('datasets/test.txt') as file:\n",
    "    reader = csv.reader(file, delimiter=' ')\n",
    "    for i , row in enumerate(reader):\n",
    "        if i in IR:\n",
    "            print([float(row[i]) for j in IC])"
   ]
  },
  {
   "cell_type": "markdown",
   "metadata": {},
   "source": [
    "We can also store the data as a data structure such as a list instead of merely printing it to console:"
   ]
  },
  {
   "cell_type": "code",
   "execution_count": 14,
   "metadata": {
    "collapsed": false
   },
   "outputs": [
    {
     "name": "stdout",
     "output_type": "stream",
     "text": [
      "[[6.0, 6.0], [110.0, 110.0], [3.46, 3.46]]\n"
     ]
    }
   ],
   "source": [
    "###what if we want to store this data in a data structure? ###\n",
    "##############################################################\n",
    "##E.g.\n",
    "#Create empty list\n",
    "L = []\n",
    "import csv\n",
    "# file = 'datasets/arrivaltext.csv'\n",
    "# file = \n",
    "IR = [2,4,6]\n",
    "IC = [1,3]\n",
    "with open('datasets/test.txt') as file:\n",
    "    reader = csv.reader(file, delimiter=' ')\n",
    "    for i , row in enumerate(reader):\n",
    "        if i in IR:\n",
    "            L.append([float(row[i]) for j in IC])\n",
    "print(L)"
   ]
  },
  {
   "cell_type": "markdown",
   "metadata": {},
   "source": [
    "We can then convert this to a numpy array (matrix):"
   ]
  },
  {
   "cell_type": "code",
   "execution_count": 15,
   "metadata": {
    "collapsed": false
   },
   "outputs": [
    {
     "name": "stdout",
     "output_type": "stream",
     "text": [
      "(3, 2) [[   6.      6.  ]\n",
      " [ 110.    110.  ]\n",
      " [   3.46    3.46]]\n"
     ]
    }
   ],
   "source": [
    "import numpy as np\n",
    "L_np = np.array(L)\n",
    "print(np.shape(L_np), L_np)"
   ]
  },
  {
   "cell_type": "markdown",
   "metadata": {},
   "source": [
    "This was a lot of work to get a numpy array. We can do better by using numpy itself:"
   ]
  },
  {
   "cell_type": "markdown",
   "metadata": {},
   "source": [
    "### Video Exercise 3"
   ]
  },
  {
   "cell_type": "markdown",
   "metadata": {},
   "source": [
    "* Using numpy to import data as matrices;\n",
    "* Using pandas to import data as dataframes (the real deal)."
   ]
  },
  {
   "cell_type": "markdown",
   "metadata": {},
   "source": [
    "### Interactive exercises:"
   ]
  },
  {
   "cell_type": "markdown",
   "metadata": {},
   "source": [
    "Plan: make 6 exercises from the code below.\n",
    "___"
   ]
  },
  {
   "cell_type": "markdown",
   "metadata": {},
   "source": [
    "### NumPy"
   ]
  },
  {
   "cell_type": "markdown",
   "metadata": {},
   "source": [
    "Using numpy's loadtxt() to import data as floats/ints (we import MNIST digit recognition data & plot one of the digits after reshaping the data):"
   ]
  },
  {
   "cell_type": "code",
   "execution_count": 14,
   "metadata": {
    "collapsed": false
   },
   "outputs": [
    {
     "name": "stdout",
     "output_type": "stream",
     "text": [
      "(42000, 785)\n"
     ]
    },
    {
     "data": {
      "image/png": "[encoded data removed]",
      "text/plain": [
       "<matplotlib.figure.Figure at 0x142eddeb8>"
      ]
     },
     "metadata": {},
     "output_type": "display_data"
    }
   ],
   "source": [
    "%matplotlib inline\n",
    "import matplotlib\n",
    "# matplotlib.use('TkAgg')\n",
    "import matplotlib.pyplot as plt\n",
    "##Importing flat files containing floats\n",
    "import numpy as np\n",
    "file = 'datasets/mnist_kaggle_train_num.csv'\n",
    "digits = np.loadtxt( file , delimiter=',')\n",
    "print(np.shape(digits))\n",
    "# np.shape(digits[0])\n",
    "im = digits[2439,1:]\n",
    "np.shape(im)\n",
    "im_sq = np.reshape( im , (28,28))\n",
    "# plt.pcolor(im_sq)\n",
    "plt.imshow(im_sq , cmap='Greys')\n",
    "plt.show()"
   ]
  },
  {
   "cell_type": "markdown",
   "metadata": {},
   "source": [
    "The file imported above had no header (= row of columns names). If your file does, you can skip the 1st row as follows:"
   ]
  },
  {
   "cell_type": "code",
   "execution_count": 19,
   "metadata": {
    "collapsed": false
   },
   "outputs": [],
   "source": [
    "#if there's a header you can skip 1st row\n",
    "file = 'datasets/mnist_kaggle_train.csv'\n",
    "data = np.loadtxt( file , delimiter=',' , skiprows=1)\n",
    "# print(data)"
   ]
  },
  {
   "cell_type": "markdown",
   "metadata": {},
   "source": [
    "We can also choose particular columns with the usecols argument of np.loadtxt():"
   ]
  },
  {
   "cell_type": "code",
   "execution_count": null,
   "metadata": {
    "collapsed": false
   },
   "outputs": [],
   "source": [
    "#Another example of skipping rows (and choosing columns)\n",
    "file = open('datasets/arrivaltext.csv')\n",
    "data = np.loadtxt( file , delimiter=',' , skiprows = 1 , usecols= [1,3])\n",
    "print(data)\n",
    "print(np.shape(data))"
   ]
  },
  {
   "cell_type": "markdown",
   "metadata": {},
   "source": [
    "### DTYPE: we can also load as a particular datatype"
   ]
  },
  {
   "cell_type": "markdown",
   "metadata": {},
   "source": [
    "E.g. strings:"
   ]
  },
  {
   "cell_type": "code",
   "execution_count": 23,
   "metadata": {
    "collapsed": false
   },
   "outputs": [
    {
     "name": "stdout",
     "output_type": "stream",
     "text": [
      "[[\"b'Time'\" \"b'Percent'\"]\n",
      " [\"b'99'\" \"b'0.067'\"]\n",
      " [\"b'99'\" \"b'0.133'\"]\n",
      " [\"b'99'\" \"b'0.067'\"]\n",
      " [\"b'99'\" \"b'0'\"]\n",
      " [\"b'99'\" \"b'0'\"]\n",
      " [\"b'0'\" \"b'0.5'\"]\n",
      " [\"b'0'\" \"b'0.467'\"]\n",
      " [\"b'0'\" \"b'0.857'\"]\n",
      " [\"b'0'\" \"b'0.5'\"]\n",
      " [\"b'0'\" \"b'0.357'\"]\n",
      " [\"b'0'\" \"b'0.533'\"]\n",
      " [\"b'5'\" \"b'0.467'\"]\n",
      " [\"b'5'\" \"b'0.467'\"]\n",
      " [\"b'5'\" \"b'0.125'\"]\n",
      " [\"b'5'\" \"b'0.4'\"]\n",
      " [\"b'5'\" \"b'0.214'\"]\n",
      " [\"b'5'\" \"b'0.4'\"]\n",
      " [\"b'10'\" \"b'0.067'\"]\n",
      " [\"b'10'\" \"b'0.067'\"]\n",
      " [\"b'10'\" \"b'0.333'\"]\n",
      " [\"b'10'\" \"b'0.333'\"]\n",
      " [\"b'10'\" \"b'0.133'\"]\n",
      " [\"b'10'\" \"b'0.133'\"]\n",
      " [\"b'15'\" \"b'0.267'\"]\n",
      " [\"b'15'\" \"b'0.286'\"]\n",
      " [\"b'15'\" \"b'0.333'\"]\n",
      " [\"b'15'\" \"b'0.214'\"]\n",
      " [\"b'15'\" \"b'0'\"]\n",
      " [\"b'15'\" \"b'0'\"]\n",
      " [\"b'20'\" \"b'0.267'\"]\n",
      " [\"b'20'\" \"b'0.2'\"]\n",
      " [\"b'20'\" \"b'0.267'\"]\n",
      " [\"b'20'\" \"b'0.437'\"]\n",
      " [\"b'20'\" \"b'0.077'\"]\n",
      " [\"b'20'\" \"b'0.067'\"]\n",
      " [\"b'25'\" \"b'0.133'\"]\n",
      " [\"b'25'\" \"b'0.267'\"]\n",
      " [\"b'25'\" \"b'0.412'\"]\n",
      " [\"b'25'\" \"b'0'\"]\n",
      " [\"b'25'\" \"b'0.067'\"]\n",
      " [\"b'25'\" \"b'0.133'\"]\n",
      " [\"b'30'\" \"b'0'\"]\n",
      " [\"b'30'\" \"b'0.071'\"]\n",
      " [\"b'30'\" \"b'0'\"]\n",
      " [\"b'30'\" \"b'0.067'\"]\n",
      " [\"b'30'\" \"b'0.067'\"]\n",
      " [\"b'30'\" \"b'0.133'\"]]\n"
     ]
    }
   ],
   "source": [
    "import numpy as np\n",
    "file = 'datasets/seaslug.txt'\n",
    "data = np.loadtxt(file, delimiter='\\t' , dtype = 'str' )\n",
    "print(data)"
   ]
  },
  {
   "cell_type": "markdown",
   "metadata": {},
   "source": [
    "and floats:"
   ]
  },
  {
   "cell_type": "code",
   "execution_count": 2,
   "metadata": {
    "collapsed": false
   },
   "outputs": [
    {
     "name": "stdout",
     "output_type": "stream",
     "text": [
      "[[  9.90000000e+01   6.70000000e-02]\n",
      " [  9.90000000e+01   1.33000000e-01]\n",
      " [  9.90000000e+01   6.70000000e-02]\n",
      " [  9.90000000e+01   0.00000000e+00]\n",
      " [  9.90000000e+01   0.00000000e+00]\n",
      " [  0.00000000e+00   5.00000000e-01]\n",
      " [  0.00000000e+00   4.67000000e-01]\n",
      " [  0.00000000e+00   8.57000000e-01]\n",
      " [  0.00000000e+00   5.00000000e-01]\n",
      " [  0.00000000e+00   3.57000000e-01]\n",
      " [  0.00000000e+00   5.33000000e-01]\n",
      " [  5.00000000e+00   4.67000000e-01]\n",
      " [  5.00000000e+00   4.67000000e-01]\n",
      " [  5.00000000e+00   1.25000000e-01]\n",
      " [  5.00000000e+00   4.00000000e-01]\n",
      " [  5.00000000e+00   2.14000000e-01]\n",
      " [  5.00000000e+00   4.00000000e-01]\n",
      " [  1.00000000e+01   6.70000000e-02]\n",
      " [  1.00000000e+01   6.70000000e-02]\n",
      " [  1.00000000e+01   3.33000000e-01]\n",
      " [  1.00000000e+01   3.33000000e-01]\n",
      " [  1.00000000e+01   1.33000000e-01]\n",
      " [  1.00000000e+01   1.33000000e-01]\n",
      " [  1.50000000e+01   2.67000000e-01]\n",
      " [  1.50000000e+01   2.86000000e-01]\n",
      " [  1.50000000e+01   3.33000000e-01]\n",
      " [  1.50000000e+01   2.14000000e-01]\n",
      " [  1.50000000e+01   0.00000000e+00]\n",
      " [  1.50000000e+01   0.00000000e+00]\n",
      " [  2.00000000e+01   2.67000000e-01]\n",
      " [  2.00000000e+01   2.00000000e-01]\n",
      " [  2.00000000e+01   2.67000000e-01]\n",
      " [  2.00000000e+01   4.37000000e-01]\n",
      " [  2.00000000e+01   7.70000000e-02]\n",
      " [  2.00000000e+01   6.70000000e-02]\n",
      " [  2.50000000e+01   1.33000000e-01]\n",
      " [  2.50000000e+01   2.67000000e-01]\n",
      " [  2.50000000e+01   4.12000000e-01]\n",
      " [  2.50000000e+01   0.00000000e+00]\n",
      " [  2.50000000e+01   6.70000000e-02]\n",
      " [  2.50000000e+01   1.33000000e-01]\n",
      " [  3.00000000e+01   0.00000000e+00]\n",
      " [  3.00000000e+01   7.10000000e-02]\n",
      " [  3.00000000e+01   0.00000000e+00]\n",
      " [  3.00000000e+01   6.70000000e-02]\n",
      " [  3.00000000e+01   6.70000000e-02]\n",
      " [  3.00000000e+01   1.33000000e-01]]\n"
     ]
    },
    {
     "data": {
      "image/png": "[encoded data removed]",
      "text/plain": [
       "<matplotlib.figure.Figure at 0x1047e2ba8>"
      ]
     },
     "metadata": {},
     "output_type": "display_data"
    }
   ],
   "source": [
    "import numpy as np\n",
    "%matplotlib inline\n",
    "import matplotlib\n",
    "# matplotlib.use('TkAgg')\n",
    "import matplotlib.pyplot as plt\n",
    "file = 'datasets/seaslug.txt'\n",
    "data = np.loadtxt(file, delimiter='\\t' , dtype = float , skiprows=1)\n",
    "print(data)\n",
    "plt.scatter(data[:,0] , data[:,1])\n",
    "plt.show()"
   ]
  },
  {
   "cell_type": "markdown",
   "metadata": {},
   "source": [
    "The problem here is no mixed datatypes. We can, however, import files of mixed datatypes with np.genfromtxt by setting the argument dtype = None:"
   ]
  },
  {
   "cell_type": "code",
   "execution_count": 5,
   "metadata": {
    "collapsed": false
   },
   "outputs": [
    {
     "name": "stdout",
     "output_type": "stream",
     "text": [
      "<class 'numpy.ndarray'>\n",
      "(1, 0, 3, b'male', 22.0, 1, 0, b'A/5 21171', 7.25, b'', b'S')\n",
      "<class 'numpy.void'>\n",
      "<class 'numpy.int64'>\n",
      "<class 'numpy.bytes_'>\n"
     ]
    }
   ],
   "source": [
    "file = 'datasets/titanic_sub.csv'\n",
    "data = np.genfromtxt( file , delimiter=','  , names = True , dtype = None ) #also see skip_header = 1\n",
    "# type(data[0])\n",
    "print(type(data))\n",
    "print(data[0])\n",
    "print(type(data[0]))\n",
    "print(type(data[0][1]))\n",
    "print(type(data[0][3]))"
   ]
  },
  {
   "cell_type": "markdown",
   "metadata": {},
   "source": [
    "check out all of these datatypes above in one array! :-)"
   ]
  },
  {
   "cell_type": "markdown",
   "metadata": {},
   "source": [
    "Note: the function np.recfromcsv is similar to np.genfromtxt() but the default dtype is dtype = None:"
   ]
  },
  {
   "cell_type": "code",
   "execution_count": 28,
   "metadata": {
    "collapsed": false
   },
   "outputs": [
    {
     "name": "stdout",
     "output_type": "stream",
     "text": [
      "[(1, 0, 3, b'male', 22.0, 1, 0, b'A/5 21171', 7.25, b'', b'S')\n",
      " (2, 1, 1, b'female', 38.0, 1, 0, b'PC 17599', 71.2833, b'C85', b'C')\n",
      " (3, 1, 3, b'female', 26.0, 0, 0, b'STON/O2. 3101282', 7.925, b'', b'S')\n",
      " (4, 1, 1, b'female', 35.0, 1, 0, b'113803', 53.1, b'C123', b'S')\n",
      " (5, 0, 3, b'male', 35.0, 0, 0, b'373450', 8.05, b'', b'S')\n",
      " (6, 0, 3, b'male', nan, 0, 0, b'330877', 8.4583, b'', b'Q')\n",
      " (7, 0, 1, b'male', 54.0, 0, 0, b'17463', 51.8625, b'E46', b'S')\n",
      " (8, 0, 3, b'male', 2.0, 3, 1, b'349909', 21.075, b'', b'S')\n",
      " (9, 1, 3, b'female', 27.0, 0, 2, b'347742', 11.1333, b'', b'S')\n",
      " (10, 1, 2, b'female', 14.0, 1, 0, b'237736', 30.0708, b'', b'C')]\n"
     ]
    }
   ],
   "source": [
    "#also see recfromcsv\n",
    "d = np.recfromcsv(file)\n",
    "print(d[:10])"
   ]
  },
  {
   "cell_type": "markdown",
   "metadata": {},
   "source": [
    "You can actually do all of this a lot more simply using Pandas, which follows here now:"
   ]
  },
  {
   "cell_type": "markdown",
   "metadata": {},
   "source": [
    "### PANDAS"
   ]
  },
  {
   "cell_type": "markdown",
   "metadata": {},
   "source": [
    "Import data using pandas:"
   ]
  },
  {
   "cell_type": "code",
   "execution_count": 7,
   "metadata": {
    "collapsed": false
   },
   "outputs": [
    {
     "data": {
      "text/html": [
       "<div>\n",
       "<table border=\"1\" class=\"dataframe\">\n",
       "  <thead>\n",
       "    <tr style=\"text-align: right;\">\n",
       "      <th></th>\n",
       "      <th>0</th>\n",
       "      <th>1</th>\n",
       "      <th>2</th>\n",
       "      <th>3</th>\n",
       "      <th>4</th>\n",
       "      <th>5</th>\n",
       "      <th>6</th>\n",
       "      <th>7</th>\n",
       "      <th>8</th>\n",
       "      <th>9</th>\n",
       "      <th>...</th>\n",
       "      <th>775</th>\n",
       "      <th>776</th>\n",
       "      <th>777</th>\n",
       "      <th>778</th>\n",
       "      <th>779</th>\n",
       "      <th>780</th>\n",
       "      <th>781</th>\n",
       "      <th>782</th>\n",
       "      <th>783</th>\n",
       "      <th>784</th>\n",
       "    </tr>\n",
       "  </thead>\n",
       "  <tbody>\n",
       "    <tr>\n",
       "      <th>0</th>\n",
       "      <td>1</td>\n",
       "      <td>0</td>\n",
       "      <td>0</td>\n",
       "      <td>0</td>\n",
       "      <td>0</td>\n",
       "      <td>0</td>\n",
       "      <td>0</td>\n",
       "      <td>0</td>\n",
       "      <td>0</td>\n",
       "      <td>0</td>\n",
       "      <td>...</td>\n",
       "      <td>0</td>\n",
       "      <td>0</td>\n",
       "      <td>0</td>\n",
       "      <td>0</td>\n",
       "      <td>0</td>\n",
       "      <td>0</td>\n",
       "      <td>0</td>\n",
       "      <td>0</td>\n",
       "      <td>0</td>\n",
       "      <td>0</td>\n",
       "    </tr>\n",
       "    <tr>\n",
       "      <th>1</th>\n",
       "      <td>0</td>\n",
       "      <td>0</td>\n",
       "      <td>0</td>\n",
       "      <td>0</td>\n",
       "      <td>0</td>\n",
       "      <td>0</td>\n",
       "      <td>0</td>\n",
       "      <td>0</td>\n",
       "      <td>0</td>\n",
       "      <td>0</td>\n",
       "      <td>...</td>\n",
       "      <td>0</td>\n",
       "      <td>0</td>\n",
       "      <td>0</td>\n",
       "      <td>0</td>\n",
       "      <td>0</td>\n",
       "      <td>0</td>\n",
       "      <td>0</td>\n",
       "      <td>0</td>\n",
       "      <td>0</td>\n",
       "      <td>0</td>\n",
       "    </tr>\n",
       "    <tr>\n",
       "      <th>2</th>\n",
       "      <td>1</td>\n",
       "      <td>0</td>\n",
       "      <td>0</td>\n",
       "      <td>0</td>\n",
       "      <td>0</td>\n",
       "      <td>0</td>\n",
       "      <td>0</td>\n",
       "      <td>0</td>\n",
       "      <td>0</td>\n",
       "      <td>0</td>\n",
       "      <td>...</td>\n",
       "      <td>0</td>\n",
       "      <td>0</td>\n",
       "      <td>0</td>\n",
       "      <td>0</td>\n",
       "      <td>0</td>\n",
       "      <td>0</td>\n",
       "      <td>0</td>\n",
       "      <td>0</td>\n",
       "      <td>0</td>\n",
       "      <td>0</td>\n",
       "    </tr>\n",
       "    <tr>\n",
       "      <th>3</th>\n",
       "      <td>4</td>\n",
       "      <td>0</td>\n",
       "      <td>0</td>\n",
       "      <td>0</td>\n",
       "      <td>0</td>\n",
       "      <td>0</td>\n",
       "      <td>0</td>\n",
       "      <td>0</td>\n",
       "      <td>0</td>\n",
       "      <td>0</td>\n",
       "      <td>...</td>\n",
       "      <td>0</td>\n",
       "      <td>0</td>\n",
       "      <td>0</td>\n",
       "      <td>0</td>\n",
       "      <td>0</td>\n",
       "      <td>0</td>\n",
       "      <td>0</td>\n",
       "      <td>0</td>\n",
       "      <td>0</td>\n",
       "      <td>0</td>\n",
       "    </tr>\n",
       "    <tr>\n",
       "      <th>4</th>\n",
       "      <td>0</td>\n",
       "      <td>0</td>\n",
       "      <td>0</td>\n",
       "      <td>0</td>\n",
       "      <td>0</td>\n",
       "      <td>0</td>\n",
       "      <td>0</td>\n",
       "      <td>0</td>\n",
       "      <td>0</td>\n",
       "      <td>0</td>\n",
       "      <td>...</td>\n",
       "      <td>0</td>\n",
       "      <td>0</td>\n",
       "      <td>0</td>\n",
       "      <td>0</td>\n",
       "      <td>0</td>\n",
       "      <td>0</td>\n",
       "      <td>0</td>\n",
       "      <td>0</td>\n",
       "      <td>0</td>\n",
       "      <td>0</td>\n",
       "    </tr>\n",
       "  </tbody>\n",
       "</table>\n",
       "<p>5 rows × 785 columns</p>\n",
       "</div>"
      ],
      "text/plain": [
       "   0    1    2    3    4    5    6    7    8    9   ...   775  776  777  778  \\\n",
       "0    1    0    0    0    0    0    0    0    0    0 ...     0    0    0    0   \n",
       "1    0    0    0    0    0    0    0    0    0    0 ...     0    0    0    0   \n",
       "2    1    0    0    0    0    0    0    0    0    0 ...     0    0    0    0   \n",
       "3    4    0    0    0    0    0    0    0    0    0 ...     0    0    0    0   \n",
       "4    0    0    0    0    0    0    0    0    0    0 ...     0    0    0    0   \n",
       "\n",
       "   779  780  781  782  783  784  \n",
       "0    0    0    0    0    0    0  \n",
       "1    0    0    0    0    0    0  \n",
       "2    0    0    0    0    0    0  \n",
       "3    0    0    0    0    0    0  \n",
       "4    0    0    0    0    0    0  \n",
       "\n",
       "[5 rows x 785 columns]"
      ]
     },
     "execution_count": 7,
     "metadata": {},
     "output_type": "execute_result"
    }
   ],
   "source": [
    "import pandas as pd\n",
    "file = 'datasets/mnist_kaggle_train_num.csv'\n",
    "data = pd.read_csv(file , nrows = 5 , header = None)\n",
    "data"
   ]
  },
  {
   "cell_type": "markdown",
   "metadata": {},
   "source": [
    "What type of object is this?"
   ]
  },
  {
   "cell_type": "code",
   "execution_count": 8,
   "metadata": {
    "collapsed": false
   },
   "outputs": [
    {
     "name": "stdout",
     "output_type": "stream",
     "text": [
      "<class 'pandas.core.frame.DataFrame'>\n"
     ]
    }
   ],
   "source": [
    "print(type(data))"
   ]
  },
  {
   "cell_type": "markdown",
   "metadata": {},
   "source": [
    "It's a motherfucking dataframe! But we can also quickly retrieve a numpy array  from it if necessary, using the method 'values':"
   ]
  },
  {
   "cell_type": "code",
   "execution_count": 9,
   "metadata": {
    "collapsed": false
   },
   "outputs": [
    {
     "name": "stdout",
     "output_type": "stream",
     "text": [
      "<class 'numpy.ndarray'>\n",
      "(5, 785)\n"
     ]
    }
   ],
   "source": [
    "print(type(data.values))\n",
    "print(np.shape(data.values))"
   ]
  },
  {
   "cell_type": "markdown",
   "metadata": {},
   "source": [
    "Having a header is the default:"
   ]
  },
  {
   "cell_type": "code",
   "execution_count": 12,
   "metadata": {
    "collapsed": false
   },
   "outputs": [
    {
     "data": {
      "text/html": [
       "<div>\n",
       "<table border=\"1\" class=\"dataframe\">\n",
       "  <thead>\n",
       "    <tr style=\"text-align: right;\">\n",
       "      <th></th>\n",
       "      <th>PassengerId</th>\n",
       "      <th>Survived</th>\n",
       "      <th>Pclass</th>\n",
       "      <th>Sex</th>\n",
       "      <th>Age</th>\n",
       "      <th>SibSp</th>\n",
       "      <th>Parch</th>\n",
       "      <th>Ticket</th>\n",
       "      <th>Fare</th>\n",
       "      <th>Cabin</th>\n",
       "      <th>Embarked</th>\n",
       "    </tr>\n",
       "  </thead>\n",
       "  <tbody>\n",
       "    <tr>\n",
       "      <th>0</th>\n",
       "      <td>1</td>\n",
       "      <td>0</td>\n",
       "      <td>3</td>\n",
       "      <td>male</td>\n",
       "      <td>22.0</td>\n",
       "      <td>1</td>\n",
       "      <td>0</td>\n",
       "      <td>A/5 21171</td>\n",
       "      <td>7.2500</td>\n",
       "      <td>NaN</td>\n",
       "      <td>S</td>\n",
       "    </tr>\n",
       "    <tr>\n",
       "      <th>1</th>\n",
       "      <td>2</td>\n",
       "      <td>1</td>\n",
       "      <td>1</td>\n",
       "      <td>female</td>\n",
       "      <td>38.0</td>\n",
       "      <td>1</td>\n",
       "      <td>0</td>\n",
       "      <td>PC 17599</td>\n",
       "      <td>71.2833</td>\n",
       "      <td>C85</td>\n",
       "      <td>C</td>\n",
       "    </tr>\n",
       "    <tr>\n",
       "      <th>2</th>\n",
       "      <td>3</td>\n",
       "      <td>1</td>\n",
       "      <td>3</td>\n",
       "      <td>female</td>\n",
       "      <td>26.0</td>\n",
       "      <td>0</td>\n",
       "      <td>0</td>\n",
       "      <td>STON/O2. 3101282</td>\n",
       "      <td>7.9250</td>\n",
       "      <td>NaN</td>\n",
       "      <td>S</td>\n",
       "    </tr>\n",
       "    <tr>\n",
       "      <th>3</th>\n",
       "      <td>4</td>\n",
       "      <td>1</td>\n",
       "      <td>1</td>\n",
       "      <td>female</td>\n",
       "      <td>35.0</td>\n",
       "      <td>1</td>\n",
       "      <td>0</td>\n",
       "      <td>113803</td>\n",
       "      <td>53.1000</td>\n",
       "      <td>C123</td>\n",
       "      <td>S</td>\n",
       "    </tr>\n",
       "    <tr>\n",
       "      <th>4</th>\n",
       "      <td>5</td>\n",
       "      <td>0</td>\n",
       "      <td>3</td>\n",
       "      <td>male</td>\n",
       "      <td>35.0</td>\n",
       "      <td>0</td>\n",
       "      <td>0</td>\n",
       "      <td>373450</td>\n",
       "      <td>8.0500</td>\n",
       "      <td>NaN</td>\n",
       "      <td>S</td>\n",
       "    </tr>\n",
       "  </tbody>\n",
       "</table>\n",
       "</div>"
      ],
      "text/plain": [
       "   PassengerId  Survived  Pclass     Sex   Age  SibSp  Parch  \\\n",
       "0            1         0       3    male  22.0      1      0   \n",
       "1            2         1       1  female  38.0      1      0   \n",
       "2            3         1       3  female  26.0      0      0   \n",
       "3            4         1       1  female  35.0      1      0   \n",
       "4            5         0       3    male  35.0      0      0   \n",
       "\n",
       "             Ticket     Fare Cabin Embarked  \n",
       "0         A/5 21171   7.2500   NaN        S  \n",
       "1          PC 17599  71.2833   C85        C  \n",
       "2  STON/O2. 3101282   7.9250   NaN        S  \n",
       "3            113803  53.1000  C123        S  \n",
       "4            373450   8.0500   NaN        S  "
      ]
     },
     "execution_count": 12,
     "metadata": {},
     "output_type": "execute_result"
    }
   ],
   "source": [
    "import pandas as pd\n",
    "file = 'datasets/titanic_sub.csv'\n",
    "data = pd.read_csv(file )\n",
    "data.head()"
   ]
  },
  {
   "cell_type": "markdown",
   "metadata": {},
   "source": [
    "Getting specific columns is really easy:"
   ]
  },
  {
   "cell_type": "code",
   "execution_count": 13,
   "metadata": {
    "collapsed": false
   },
   "outputs": [
    {
     "data": {
      "text/html": [
       "<div>\n",
       "<table border=\"1\" class=\"dataframe\">\n",
       "  <thead>\n",
       "    <tr style=\"text-align: right;\">\n",
       "      <th></th>\n",
       "      <th>PassengerId</th>\n",
       "      <th>Survived</th>\n",
       "      <th>Sex</th>\n",
       "      <th>Cabin</th>\n",
       "    </tr>\n",
       "  </thead>\n",
       "  <tbody>\n",
       "    <tr>\n",
       "      <th>0</th>\n",
       "      <td>1</td>\n",
       "      <td>0</td>\n",
       "      <td>male</td>\n",
       "      <td>NaN</td>\n",
       "    </tr>\n",
       "    <tr>\n",
       "      <th>1</th>\n",
       "      <td>2</td>\n",
       "      <td>1</td>\n",
       "      <td>female</td>\n",
       "      <td>C85</td>\n",
       "    </tr>\n",
       "    <tr>\n",
       "      <th>2</th>\n",
       "      <td>3</td>\n",
       "      <td>1</td>\n",
       "      <td>female</td>\n",
       "      <td>NaN</td>\n",
       "    </tr>\n",
       "    <tr>\n",
       "      <th>3</th>\n",
       "      <td>4</td>\n",
       "      <td>1</td>\n",
       "      <td>female</td>\n",
       "      <td>C123</td>\n",
       "    </tr>\n",
       "    <tr>\n",
       "      <th>4</th>\n",
       "      <td>5</td>\n",
       "      <td>0</td>\n",
       "      <td>male</td>\n",
       "      <td>NaN</td>\n",
       "    </tr>\n",
       "  </tbody>\n",
       "</table>\n",
       "</div>"
      ],
      "text/plain": [
       "   PassengerId  Survived     Sex Cabin\n",
       "0            1         0    male   NaN\n",
       "1            2         1  female   C85\n",
       "2            3         1  female   NaN\n",
       "3            4         1  female  C123\n",
       "4            5         0    male   NaN"
      ]
     },
     "execution_count": 13,
     "metadata": {},
     "output_type": "execute_result"
    }
   ],
   "source": [
    "I = [0,1,3,9]\n",
    "data[I].head()"
   ]
  },
  {
   "cell_type": "markdown",
   "metadata": {},
   "source": [
    "As is getting specific rows:"
   ]
  },
  {
   "cell_type": "code",
   "execution_count": 14,
   "metadata": {
    "collapsed": false
   },
   "outputs": [
    {
     "data": {
      "text/html": [
       "<div>\n",
       "<table border=\"1\" class=\"dataframe\">\n",
       "  <thead>\n",
       "    <tr style=\"text-align: right;\">\n",
       "      <th></th>\n",
       "      <th>PassengerId</th>\n",
       "      <th>Survived</th>\n",
       "      <th>Pclass</th>\n",
       "      <th>Sex</th>\n",
       "      <th>Age</th>\n",
       "      <th>SibSp</th>\n",
       "      <th>Parch</th>\n",
       "      <th>Ticket</th>\n",
       "      <th>Fare</th>\n",
       "      <th>Cabin</th>\n",
       "      <th>Embarked</th>\n",
       "    </tr>\n",
       "  </thead>\n",
       "  <tbody>\n",
       "    <tr>\n",
       "      <th>0</th>\n",
       "      <td>1</td>\n",
       "      <td>0</td>\n",
       "      <td>3</td>\n",
       "      <td>male</td>\n",
       "      <td>22.0</td>\n",
       "      <td>1</td>\n",
       "      <td>0</td>\n",
       "      <td>A/5 21171</td>\n",
       "      <td>7.2500</td>\n",
       "      <td>NaN</td>\n",
       "      <td>S</td>\n",
       "    </tr>\n",
       "    <tr>\n",
       "      <th>1</th>\n",
       "      <td>2</td>\n",
       "      <td>1</td>\n",
       "      <td>1</td>\n",
       "      <td>female</td>\n",
       "      <td>38.0</td>\n",
       "      <td>1</td>\n",
       "      <td>0</td>\n",
       "      <td>PC 17599</td>\n",
       "      <td>71.2833</td>\n",
       "      <td>C85</td>\n",
       "      <td>C</td>\n",
       "    </tr>\n",
       "    <tr>\n",
       "      <th>3</th>\n",
       "      <td>4</td>\n",
       "      <td>1</td>\n",
       "      <td>1</td>\n",
       "      <td>female</td>\n",
       "      <td>35.0</td>\n",
       "      <td>1</td>\n",
       "      <td>0</td>\n",
       "      <td>113803</td>\n",
       "      <td>53.1000</td>\n",
       "      <td>C123</td>\n",
       "      <td>S</td>\n",
       "    </tr>\n",
       "    <tr>\n",
       "      <th>9</th>\n",
       "      <td>10</td>\n",
       "      <td>1</td>\n",
       "      <td>2</td>\n",
       "      <td>female</td>\n",
       "      <td>14.0</td>\n",
       "      <td>1</td>\n",
       "      <td>0</td>\n",
       "      <td>237736</td>\n",
       "      <td>30.0708</td>\n",
       "      <td>NaN</td>\n",
       "      <td>C</td>\n",
       "    </tr>\n",
       "  </tbody>\n",
       "</table>\n",
       "</div>"
      ],
      "text/plain": [
       "   PassengerId  Survived  Pclass     Sex   Age  SibSp  Parch     Ticket  \\\n",
       "0            1         0       3    male  22.0      1      0  A/5 21171   \n",
       "1            2         1       1  female  38.0      1      0   PC 17599   \n",
       "3            4         1       1  female  35.0      1      0     113803   \n",
       "9           10         1       2  female  14.0      1      0     237736   \n",
       "\n",
       "      Fare Cabin Embarked  \n",
       "0   7.2500   NaN        S  \n",
       "1  71.2833   C85        C  \n",
       "3  53.1000  C123        S  \n",
       "9  30.0708   NaN        C  "
      ]
     },
     "execution_count": 14,
     "metadata": {},
     "output_type": "execute_result"
    }
   ],
   "source": [
    "data.ix[I]"
   ]
  },
  {
   "cell_type": "markdown",
   "metadata": {},
   "source": [
    "We can also use pandas to plot histograms of numerical columns very easily:"
   ]
  },
  {
   "cell_type": "code",
   "execution_count": 17,
   "metadata": {
    "collapsed": false
   },
   "outputs": [
    {
     "name": "stderr",
     "output_type": "stream",
     "text": [
      "/Users/hugobowne/repos/p3/lib/python3.5/site-packages/IPython/core/interactiveshell.py:2885: FutureWarning: \n",
      "mpl_style had been deprecated and will be removed in a future version.\n",
      "Use `matplotlib.pyplot.style.use` instead.\n",
      "\n",
      "  exec(code_obj, self.user_global_ns, self.user_ns)\n"
     ]
    },
    {
     "data": {
      "image/png": "[encoded data removed]",
      "text/plain": [
       "<matplotlib.figure.Figure at 0x105824b38>"
      ]
     },
     "metadata": {},
     "output_type": "display_data"
    }
   ],
   "source": [
    "file = 'datasets/titanic_sub.csv'\n",
    "data = pd.read_csv(file )\n",
    "pd.set_option('display.mpl_style', 'default') # Make the graphs a bit prettier\n",
    "pd.DataFrame.hist(data , figsize=[30,30]);"
   ]
  },
  {
   "cell_type": "markdown",
   "metadata": {},
   "source": [
    "For more on Pandas dataframes, check out DataCamp's Intermeditate Python course (if you haven't already) and keep your eyes open for our upcoming Introduction to Pandas course!"
   ]
  }
 ],
 "metadata": {
  "anaconda-cloud": {},
  "kernelspec": {
   "display_name": "Python [Root]",
   "language": "python",
   "name": "Python [Root]"
  },
  "language_info": {
   "codemirror_mode": {
    "name": "ipython",
    "version": 3
   },
   "file_extension": ".py",
   "mimetype": "text/x-python",
   "name": "python",
   "nbconvert_exporter": "python",
   "pygments_lexer": "ipython3",
   "version": "3.5.1"
  }
 },
 "nbformat": 4,
 "nbformat_minor": 0
}

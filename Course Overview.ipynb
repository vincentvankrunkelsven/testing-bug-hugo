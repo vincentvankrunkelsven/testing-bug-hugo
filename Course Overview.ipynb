{
 "cells": [
  {
   "cell_type": "markdown",
   "metadata": {},
   "source": [
    "# Python Practice Course\n",
    "\n",
    "## Course description\n",
    "\n",
    "\n",
    "## Learning objectives\n",
    "\n",
    "\n",
    "## Prerequisites\n",
    "\n"
   ]
  },
  {
   "cell_type": "markdown",
   "metadata": {},
   "source": [
    "## Course Structure\n",
    "\n",
    "### Calculating BMI\n",
    "\n",
    "This chapter mainly focuses on basic python functionalities\n",
    "- calculations: calculate BMI, pound to kg calculations\n",
    "- variable assignments: assign calculation results to variables; check variable types\n",
    "- function definitions: define functions to calculate BMI, pound to kg\n",
    "- manipulations of list objects: choose element of string, slice list, list of lists\n",
    "- for loop: use for loop to go through a list"
   ]
  },
  {
   "cell_type": "markdown",
   "metadata": {},
   "source": [
    "### String Manipulation\n",
    "This chapter mainly focuses on built-in methods of strings and lists, and using functions from imported packages\n",
    "- String methods: change string to upper case, find the letter at a particular index, split\n",
    "- List methods: create a list with words split from a string, find the index of a list element, append, remove, reverse list\n",
    "- Import package: import re, *import part of re*?\n",
    "- Use package function: use re to find all occurences of a word"
   ]
  },
  {
   "cell_type": "markdown",
   "metadata": {},
   "source": [
    "### Analysing World Cup Performance\n",
    "This chapter focuses on numpy and matplotlib\n",
    "- Numpy Array: create a numpy array from list, multiply an array, use boolean to select elements of array, subset array, median and average of array, standard diviation\n",
    "- 2D Numpy Array: Create 2D array, subset 2D array, adding new element to 2D array, adding two 2D arrays\n",
    "- Plotting arrays: line plot a array, scatter plot, build histogram, marking x and y axis, choose bins, labels, ticks, size, color"
   ]
  },
  {
   "cell_type": "markdown",
   "metadata": {},
   "source": [
    "### Creating Artist Profiles\n",
    "This chapter focuses on dictionary and panda DataFrame\n",
    "- Dictionry: Create a dictionary with the artist's profile, access data from dictionary, change content of dictionary, delete record from dictionary, dictionary of dictionaries\n",
    "- Panda df: dictionary to df, change role label, csv to df, get specific column, get specific entry, "
   ]
  },
  {
   "cell_type": "markdown",
   "metadata": {},
   "source": [
    "### Complex Manipulations of the Last Two Datasets\n",
    "This chapter focuses on logic, control flow, filtering, and loops\n",
    "- Logic: comparison operators, compare arrays, boolean operators, and, or, not, if, elif, else\n",
    "- Loop: While loop, loop with logic, loop over list (and list of lists), list over np array, list over DataFrame"
   ]
  },
  {
   "cell_type": "code",
   "execution_count": null,
   "metadata": {
    "collapsed": true
   },
   "outputs": [],
   "source": []
  }
 ],
 "metadata": {
  "anaconda-cloud": {},
  "kernelspec": {
   "display_name": "Python [Root]",
   "language": "python",
   "name": "Python [Root]"
  },
  "language_info": {
   "codemirror_mode": {
    "name": "ipython",
    "version": 3
   },
   "file_extension": ".py",
   "mimetype": "text/x-python",
   "name": "python",
   "nbconvert_exporter": "python",
   "pygments_lexer": "ipython3",
   "version": "3.5.2"
  }
 },
 "nbformat": 4,
 "nbformat_minor": 0
}
